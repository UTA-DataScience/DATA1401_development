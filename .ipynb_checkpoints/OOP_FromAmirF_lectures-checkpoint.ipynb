{
 "cells": [
  {
   "cell_type": "markdown",
   "metadata": {},
   "source": [
    "# Lecture 11- Object Oriented Programming\n",
    "\n",
    "\n",
    "## Motivation\n",
    "\n",
    "You are used to data types like strings and floats and the operations you can do on them, for example\n",
    "\n",
    "    1.0 + 2.5 → 3.5\n",
    "    “Hello” + “ “ + “World” → “Hello World”\n",
    "   \n",
    "What if you wanted new type of data with operations that are unique to it? For example the Matrices in your exam? For example:\n",
    "\n",
    "\\begin{equation}\n",
    "\\begin{pmatrix} 1 & 2 \\\\ 2 & 3 \\end{pmatrix} + \\begin{pmatrix}3 & 2 \\\\ 2 & 1 \\end{pmatrix} →\n",
    "\\begin{pmatrix}\n",
    "4 & 4 \\\\\n",
    "4 & 4\n",
    "\\end{pmatrix}\n",
    "\\end{equation}\n",
    "\n",
    "## Object Oriented Programming\n",
    "\n",
    "Combine data and the operations into a new concept called an object. An object\n",
    "   * has a *type* referred to as a **class**, analogous to “float” or “string”.\n",
    "   * holds *data* in form of fields or **attributes**. \n",
    "   * holds *code* in form of **methods**.\n",
    "\n",
    "For example, lets say we want to keep information on students in this class for computing grades. We can create a new class of object called a “student”:\n",
    "\n",
    "   * **Attributes**: name, id number, gender, year, grades, …\n",
    "   * **Methods**: add_grade, average_grade, …\n",
    "   \n",
    "In python, here's an example creating such a class:"
   ]
  },
  {
   "cell_type": "code",
   "execution_count": 1,
   "metadata": {},
   "outputs": [],
   "source": [
    "class student:\n",
    "    name=str()\n",
    "    id_number=int()\n",
    "    gender=str()\n",
    "    year=int()\n",
    "    grades=list()\n",
    "    \n",
    "    def add_grade(self,grade):\n",
    "        self.grades.append(grade)\n",
    "        \n",
    "    def average_grade(self):\n",
    "        return sum(self.grades)/len(self.grade)"
   ]
  },
  {
   "cell_type": "markdown",
   "metadata": {},
   "source": [
    "Any given student is an instance of the student class.  Note that `self` is how we refer to data or methods of the class itself."
   ]
  },
  {
   "cell_type": "code",
   "execution_count": 3,
   "metadata": {},
   "outputs": [
    {
     "name": "stdout",
     "output_type": "stream",
     "text": [
      "The student class: <class 'type'>\n",
      "The student instance: <class '__main__.student'>\n"
     ]
    }
   ],
   "source": [
    "a_student=student()\n",
    "\n",
    "print(\"The student class:\", type(student))\n",
    "print(\"The student instance:\", type(a_student))"
   ]
  },
  {
   "cell_type": "markdown",
   "metadata": {},
   "source": [
    "Why would such a construction be helpful? An alternative way of keeping all of the book-keeping for the students would have been to create a bunch of lists for each of the attributes and make sure that the first student's information is always at index 0, second student index 1, and so on. \n",
    "\n",
    "For exmaple:"
   ]
  },
  {
   "cell_type": "code",
   "execution_count": 11,
   "metadata": {},
   "outputs": [],
   "source": [
    "names=list()\n",
    "id_numbers=list()\n",
    "genders=list()\n",
    "years=list()\n",
    "grades=list()\n",
    "\n",
    "# Create an \"instance\" of a student\n",
    "\n",
    "names.append(str())\n",
    "id_numbers.append(int())\n",
    "genders.append(str())\n",
    "years.append(str())\n",
    "grades.append(list())"
   ]
  },
  {
   "cell_type": "markdown",
   "metadata": {},
   "source": [
    "We could write functions to help make all of this look nicer, but it would be cumbersome to manage and ugly to read.\n",
    "\n",
    "## Constructor / Destructor\n",
    "\n",
    "We created an instance of student in the example above, but we didn't take care to carefully make sure all that the student instance was carefully setup. The first important OO concept are **constructors** and **destructors**. These are optional methods that are called when an object is created or destroyed. Since python manages memory for us, we typically don't need to implement destructors, but constructors are always a good idea. \n",
    "\n",
    "In python the names of build-in methods of classes typically start and end with 2 underscores. `__init__(self,...)` and `__del__(self)` are class constructor and destructors, respectively. \n",
    "\n",
    "For example:"
   ]
  },
  {
   "cell_type": "code",
   "execution_count": 40,
   "metadata": {},
   "outputs": [],
   "source": [
    "class student:\n",
    "    def __init__(self, name, id_number, gender, year):\n",
    "        self.name=name\n",
    "        self.id_number=id_number\n",
    "        self.gender=gender\n",
    "        self.year=year\n",
    "        self.grades=list()\n",
    "    \n",
    "    def add_grade(self,grade):\n",
    "        self.grades.append(grade)\n",
    "        \n",
    "    def average_grade(self):\n",
    "        return sum(self.grades)/len(self.grades)\n",
    "    \n",
    "    def print_grades(self):\n",
    "        for grade in self.grades:\n",
    "            print(grade)\n"
   ]
  },
  {
   "cell_type": "markdown",
   "metadata": {},
   "source": [
    "Now when you instantiate a student you would do:"
   ]
  },
  {
   "cell_type": "code",
   "execution_count": 28,
   "metadata": {},
   "outputs": [
    {
     "name": "stdout",
     "output_type": "stream",
     "text": [
      "85\n",
      "90\n",
      "Average: 87.5\n"
     ]
    }
   ],
   "source": [
    "a_student=student(\"John Doe\", 111, \"Male\", 0)\n",
    "\n",
    "a_student.add_grade(85)\n",
    "a_student.add_grade(90)\n",
    "\n",
    "a_student.print_grades()\n",
    "\n",
    "print(\"Average:\", a_student.average_grade())"
   ]
  },
  {
   "cell_type": "code",
   "execution_count": 42,
   "metadata": {},
   "outputs": [
    {
     "data": {
      "text/plain": [
       "[]"
      ]
     },
     "execution_count": 42,
     "metadata": {},
     "output_type": "execute_result"
    }
   ],
   "source": [
    "b_student=student(\"Alan Poe\", 111, \"Male\", 0)\n",
    "b_student.grades"
   ]
  },
  {
   "cell_type": "code",
   "execution_count": 45,
   "metadata": {},
   "outputs": [
    {
     "data": {
      "text/plain": [
       "'John Poe'"
      ]
     },
     "execution_count": 45,
     "metadata": {},
     "output_type": "execute_result"
    }
   ],
   "source": [
    "c_student=student(\"John Poe\", 111, \"Male\", 0)\n",
    "c_student.name"
   ]
  },
  {
   "cell_type": "code",
   "execution_count": 51,
   "metadata": {},
   "outputs": [
    {
     "data": {
      "text/plain": [
       "29"
      ]
     },
     "execution_count": 51,
     "metadata": {},
     "output_type": "execute_result"
    }
   ],
   "source": [
    "len(dir(student))"
   ]
  },
  {
   "cell_type": "code",
   "execution_count": 52,
   "metadata": {},
   "outputs": [
    {
     "data": {
      "text/plain": [
       "34"
      ]
     },
     "execution_count": 52,
     "metadata": {},
     "output_type": "execute_result"
    }
   ],
   "source": [
    "len(dir(a_student))"
   ]
  },
  {
   "cell_type": "markdown",
   "metadata": {},
   "source": [
    "And you can keep all of the information for all of your students in a list:"
   ]
  },
  {
   "cell_type": "code",
   "execution_count": 37,
   "metadata": {},
   "outputs": [
    {
     "name": "stdout",
     "output_type": "stream",
     "text": [
      "Name: John Doe\n",
      "Name: Jane Doe\n"
     ]
    }
   ],
   "source": [
    "#Why this does not work when executed for the second time?\n",
    "students=list()\n",
    "\n",
    "students.append(student(\"John Doe\", 111, \"Male\", 0))\n",
    "students.append(student(\"Jane Doe\", 112, \"Female\", 0))\n",
    "\n",
    "for student in students:\n",
    "    print(\"Name:\", student.name)\n"
   ]
  },
  {
   "cell_type": "code",
   "execution_count": null,
   "metadata": {},
   "outputs": [],
   "source": []
  }
 ],
 "metadata": {
  "kernelspec": {
   "display_name": "Python 3",
   "language": "python",
   "name": "python3"
  },
  "language_info": {
   "codemirror_mode": {
    "name": "ipython",
    "version": 3
   },
   "file_extension": ".py",
   "mimetype": "text/x-python",
   "name": "python",
   "nbconvert_exporter": "python",
   "pygments_lexer": "ipython3",
   "version": "3.7.1"
  }
 },
 "nbformat": 4,
 "nbformat_minor": 2
}
